{
 "cells": [
  {
   "cell_type": "code",
   "execution_count": 34,
   "metadata": {},
   "outputs": [],
   "source": [
    "# imports\n",
    "from sklearn.datasets import fetch_california_housing\n",
    "from sklearn.model_selection import train_test_split\n",
    "from sklearn.ensemble import RandomForestRegressor\n",
    "from sklearn.svm import SVR\n",
    "from sklearn.tree import DecisionTreeRegressor\n",
    "from sklearn.metrics import accuracy_score\n",
    "from sklearn.metrics import r2_score\n",
    "from sklearn.model_selection import KFold\n",
    "import time"
   ]
  },
  {
   "cell_type": "code",
   "execution_count": 4,
   "metadata": {},
   "outputs": [],
   "source": [
    "# data\n",
    "cal_housing = fetch_california_housing()\n",
    "\n",
    "X_train, X_test, y_train, y_test = train_test_split(cal_housing.data, cal_housing.target, test_size=0.25, random_state=1)"
   ]
  },
  {
   "cell_type": "code",
   "execution_count": 6,
   "metadata": {},
   "outputs": [],
   "source": [
    "# classifiers\n",
    "random_forest = RandomForestRegressor(min_samples_split = 20, max_depth=15, max_features = 5, \n",
    "                            max_leaf_nodes=270, random_state=0, n_estimators = 500)\n",
    "\n",
    "svr = SVR(kernel='rbf', C = 50, gamma = 0.001)\n",
    "\n",
    "decision_tree = DecisionTreeRegressor(max_depth=20, max_leaf_nodes=280, min_samples_split=60, random_state=0)\n"
   ]
  },
  {
   "cell_type": "code",
   "execution_count": 47,
   "metadata": {},
   "outputs": [],
   "source": [
    "def evaluate_classifier(clf):\n",
    "    start = time.time()\n",
    "    clf.fit(X_train, y_train)\n",
    "    predictions = clf.predict(X_test)\n",
    "    elapsed_time = time.time() - start\n",
    "    return ' has accuracy score of: ' + str(round(r2_score(y_test, predictions), 3)) + ', it took ' + str(round(elapsed_time,3))"
   ]
  },
  {
   "cell_type": "code",
   "execution_count": 48,
   "metadata": {},
   "outputs": [
    {
     "name": "stdout",
     "output_type": "stream",
     "text": [
      "decision tree has accuracy score of: 0.714, it took 0.181\n",
      "random forest has accuracy score of: 0.781, it took 41.98\n",
      "SVR has accuracy score of: 0.608, it took 156.579\n"
     ]
    }
   ],
   "source": [
    "classifiers = [('decision tree', decision_tree), ('random forest', random_forest), ('SVR', svr)]\n",
    "\n",
    "for tup in classifiers:\n",
    "    (name, clf) = tup\n",
    "    result = evaluate_classifier(clf)\n",
    "    print(name + result)\n",
    "    "
   ]
  },
  {
   "cell_type": "code",
   "execution_count": null,
   "metadata": {},
   "outputs": [],
   "source": []
  }
 ],
 "metadata": {
  "kernelspec": {
   "display_name": "Python 2",
   "language": "python",
   "name": "python2"
  },
  "language_info": {
   "codemirror_mode": {
    "name": "ipython",
    "version": 2
   },
   "file_extension": ".py",
   "mimetype": "text/x-python",
   "name": "python",
   "nbconvert_exporter": "python",
   "pygments_lexer": "ipython2",
   "version": "2.7.15"
  }
 },
 "nbformat": 4,
 "nbformat_minor": 2
}
