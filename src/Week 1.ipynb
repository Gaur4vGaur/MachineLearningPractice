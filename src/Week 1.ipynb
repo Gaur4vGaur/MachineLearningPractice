{
 "cells": [
  {
   "cell_type": "markdown",
   "metadata": {},
   "source": [
    "# Level 1"
   ]
  },
  {
   "cell_type": "markdown",
   "metadata": {},
   "source": [
    "#### 1. Loading sample iris and digits data"
   ]
  },
  {
   "cell_type": "code",
   "execution_count": 1,
   "metadata": {},
   "outputs": [
    {
     "name": "stdout",
     "output_type": "stream",
     "text": [
      "[[ 0.  0.  5. ...  0.  0.  0.]\n",
      " [ 0.  0.  0. ... 10.  0.  0.]\n",
      " [ 0.  0.  0. ... 16.  9.  0.]\n",
      " ...\n",
      " [ 0.  0.  1. ...  6.  0.  0.]\n",
      " [ 0.  0.  2. ... 12.  0.  0.]\n",
      " [ 0.  0. 10. ... 12.  1.  0.]]\n"
     ]
    }
   ],
   "source": [
    "from sklearn import datasets\n",
    "iris = datasets.load_iris()\n",
    "digits = datasets.load_digits()\n",
    "\n",
    "print(digits.data)"
   ]
  },
  {
   "cell_type": "markdown",
   "metadata": {},
   "source": [
    "#### 2. Example to create classification and train modelSupport Vector Classifications"
   ]
  },
  {
   "cell_type": "code",
   "execution_count": 2,
   "metadata": {},
   "outputs": [
    {
     "data": {
      "text/plain": [
       "SVC(C=100.0, cache_size=200, class_weight=None, coef0=0.0,\n",
       "  decision_function_shape='ovr', degree=3, gamma=0.001, kernel='rbf',\n",
       "  max_iter=-1, probability=False, random_state=None, shrinking=True,\n",
       "  tol=0.001, verbose=False)"
      ]
     },
     "execution_count": 2,
     "metadata": {},
     "output_type": "execute_result"
    }
   ],
   "source": [
    "from sklearn import svm\n",
    "clf = svm.SVC(gamma=0.001, C=100.)\n",
    "\n",
    "# train the model using fit\n",
    "clf.fit(digits.data[:-1], digits.target[:-1])"
   ]
  },
  {
   "cell_type": "markdown",
   "metadata": {},
   "source": [
    "#### 3. Use above model to predict the last value"
   ]
  },
  {
   "cell_type": "code",
   "execution_count": 3,
   "metadata": {},
   "outputs": [
    {
     "data": {
      "text/plain": [
       "array([8])"
      ]
     },
     "execution_count": 3,
     "metadata": {},
     "output_type": "execute_result"
    }
   ],
   "source": [
    "clf.predict(digits.data[-1:])"
   ]
  },
  {
   "cell_type": "markdown",
   "metadata": {},
   "source": [
    "#### 4. Define how data looks like"
   ]
  },
  {
   "cell_type": "code",
   "execution_count": 4,
   "metadata": {},
   "outputs": [
    {
     "name": "stdout",
     "output_type": "stream",
     "text": [
      "(150L, 4L)\n"
     ]
    }
   ],
   "source": [
    "print(iris.data.shape) #rows and colums in data\n",
    "# print(iris.DESCR) commented the command as it provides lot more details"
   ]
  },
  {
   "cell_type": "code",
   "execution_count": 5,
   "metadata": {},
   "outputs": [
    {
     "data": {
      "text/plain": [
       "array([0, 1, 2])"
      ]
     },
     "execution_count": 5,
     "metadata": {},
     "output_type": "execute_result"
    }
   ],
   "source": [
    "# unique values in data\n",
    "import numpy as np\n",
    "iris_X = iris.data\n",
    "iris_Y = iris.target\n",
    "\n",
    "np.unique(iris_Y)"
   ]
  },
  {
   "cell_type": "markdown",
   "metadata": {},
   "source": [
    "#### 5. Load and train different types of models and compare their performance\n",
    "        neighbour, linear regression, logistic regression "
   ]
  },
  {
   "cell_type": "code",
   "execution_count": 6,
   "metadata": {},
   "outputs": [
    {
     "name": "stdout",
     "output_type": "stream",
     "text": [
      "0.5850753022690571\n",
      "0.3713190845037463\n"
     ]
    }
   ],
   "source": [
    "#Example 1\n",
    "from sklearn import linear_model, neighbors\n",
    "\n",
    "d = datasets.load_diabetes()\n",
    "d_X_train = d.data[:-20]\n",
    "d_X_test = d.data[-20:]\n",
    "d_Y_train = d.target[:-20]\n",
    "d_Y_test = d.target[-20:]\n",
    "\n",
    "regr = linear_model.LinearRegression()\n",
    "regr.fit(d_X_train, d_Y_train)\n",
    "print(regr.score(d_X_test, d_Y_test))\n",
    "\n",
    "knn = linear_model.Lasso()\n",
    "knn.fit(d_X_train, d_Y_train)\n",
    "print(knn.score(d_X_test, d_Y_test))\n"
   ]
  },
  {
   "cell_type": "code",
   "execution_count": 7,
   "metadata": {},
   "outputs": [
    {
     "name": "stdout",
     "output_type": "stream",
     "text": [
      "0.9611111111111111\n",
      "0.40895560960777816\n",
      "0.9166666666666666\n",
      "0.9222222222222223\n"
     ]
    }
   ],
   "source": [
    "#Example 2\n",
    "digits = datasets.load_digits()\n",
    "X_digits = digits.data / digits.data.max()\n",
    "y_digits = digits.target\n",
    "\n",
    "sample = int(0.9*len(X_digits))\n",
    "\n",
    "X_train = X_digits[:sample]\n",
    "X_test = X_digits[sample:]\n",
    "y_train = y_digits[:sample]\n",
    "y_test = y_digits[sample:]\n",
    "\n",
    "knn = neighbors.KNeighborsClassifier()\n",
    "print(knn.fit(X_train, y_train).score(X_test, y_test))\n",
    "\n",
    "linreg = linear_model.LinearRegression()\n",
    "print(linreg.fit(X_train, y_train).score(X_test, y_test))\n",
    "\n",
    "logreg = linear_model.LogisticRegression()\n",
    "print(logreg.fit(X_train, y_train).score(X_test, y_test))\n",
    "\n",
    "sdg = linear_model.SGDClassifier(max_iter=1000)\n",
    "print(sdg.fit(X_train, y_train).score(X_test, y_test))"
   ]
  },
  {
   "cell_type": "markdown",
   "metadata": {},
   "source": [
    "#### 6. Test performance for different learning rates"
   ]
  },
  {
   "cell_type": "code",
   "execution_count": 12,
   "metadata": {},
   "outputs": [
    {
     "data": {
      "text/plain": [
       "[<matplotlib.lines.Line2D at 0xeac4ba8>]"
      ]
     },
     "execution_count": 12,
     "metadata": {},
     "output_type": "execute_result"
    },
    {
     "data": {
      "image/png": "[encoded data removed]",
      "text/plain": [
       "<Figure size 432x288 with 1 Axes>"
      ]
     },
     "metadata": {},
     "output_type": "display_data"
    }
   ],
   "source": [
    "eta = []\n",
    "scores = []\n",
    "\n",
    "for i in range(1, 41):\n",
    "    e = float(i)/100\n",
    "    eta.append(e)\n",
    "    sdg = linear_model.SGDClassifier(max_iter=50, learning_rate='constant', eta0=e)\n",
    "    s = sdg.fit(X_train, y_train).score(X_test, y_test)\n",
    "    scores.append(s)\n",
    "\n",
    "import matplotlib.pyplot as plt\n",
    "plt.plot(eta, scores)"
   ]
  },
  {
   "cell_type": "markdown",
   "metadata": {},
   "source": [
    "# Level 2"
   ]
  },
  {
   "cell_type": "markdown",
   "metadata": {},
   "source": [
    "#### 1. Plot performance when epoch changes"
   ]
  },
  {
   "cell_type": "code",
   "execution_count": 9,
   "metadata": {},
   "outputs": [
    {
     "data": {
      "text/plain": [
       "[<matplotlib.lines.Line2D at 0x9153cc0>]"
      ]
     },
     "execution_count": 9,
     "metadata": {},
     "output_type": "execute_result"
    },
    {
     "data": {
      "image/png": "[encoded data removed]",
      "text/plain": [
       "<Figure size 432x288 with 1 Axes>"
      ]
     },
     "metadata": {},
     "output_type": "display_data"
    }
   ],
   "source": [
    "sdg = linear_model.SGDClassifier(max_iter=1, learning_rate='optimal')\n",
    "s = sdg.fit(X_train, y_train).score(X_test, y_test)\n",
    "\n",
    "epoch = [1]\n",
    "scores = [s]\n",
    "\n",
    "for i in range(1, 41):\n",
    "    e = i*25\n",
    "    epoch.append(e)\n",
    "    sdg = linear_model.SGDClassifier(max_iter=e, learning_rate='optimal')\n",
    "    s = sdg.fit(X_train, y_train).score(X_test, y_test)\n",
    "    scores.append(s)\n",
    "\n",
    "import matplotlib.pyplot as plt\n",
    "plt.plot(epoch, scores)"
   ]
  },
  {
   "cell_type": "markdown",
   "metadata": {},
   "source": [
    "#### 2. Implement cross-validations"
   ]
  },
  {
   "cell_type": "code",
   "execution_count": 10,
   "metadata": {},
   "outputs": [
    {
     "data": {
      "text/plain": [
       "array([0.96578289, 0.92708922, 0.96681476, 0.96362897, 0.93192644])"
      ]
     },
     "execution_count": 10,
     "metadata": {},
     "output_type": "execute_result"
    }
   ],
   "source": [
    "#example 1\n",
    "from sklearn.model_selection import KFold, cross_val_score\n",
    "\n",
    "digits = datasets.load_digits()\n",
    "X_digits = digits.data\n",
    "y_digits = digits.target\n",
    "\n",
    "svc = svm.SVC(C=1, kernel='linear')\n",
    "k_fold = KFold(n_splits=5)\n",
    "cross_val_score(svc, X_digits, y_digits, cv=k_fold, scoring='precision_macro')\n",
    "\n"
   ]
  },
  {
   "cell_type": "code",
   "execution_count": 28,
   "metadata": {},
   "outputs": [
    {
     "data": {
      "text/plain": [
       "[<matplotlib.lines.Line2D at 0xf984a20>]"
      ]
     },
     "execution_count": 28,
     "metadata": {},
     "output_type": "execute_result"
    },
    {
     "data": {
      "image/png": "[encoded data removed]",
      "text/plain": [
       "<Figure size 432x288 with 1 Axes>"
      ]
     },
     "metadata": {},
     "output_type": "display_data"
    }
   ],
   "source": [
    "# Example 2 - cross validation to find out good learning rate for logistic regression(SDG classifier)\n",
    "rates = ['constant', 'optimal', 'invscaling']\n",
    "k_fold = KFold(n_splits=10)\n",
    "cv_sum = []\n",
    "re = []\n",
    "\n",
    "for r in rates:\n",
    "    for e in range(1,4):\n",
    "        eta = float(e)/float(100)\n",
    "        sdg = linear_model.SGDClassifier(max_iter=100, learning_rate=r, eta0=eta)\n",
    "        cv = cross_val_score(sdg, X_digits, y_digits, cv=k_fold, n_jobs=-1)\n",
    "        s = sum(cv)/float(len(cv))\n",
    "        cv_sum.append(s)\n",
    "        re.append(r[:1] + '-' + str(eta))\n",
    "    \n",
    "plt.plot(re, cv_sum)"
   ]
  },
  {
   "cell_type": "markdown",
   "metadata": {},
   "source": [
    "#### 3. Implement decision tree"
   ]
  },
  {
   "cell_type": "code",
   "execution_count": null,
   "metadata": {},
   "outputs": [],
   "source": []
  },
  {
   "cell_type": "code",
   "execution_count": null,
   "metadata": {},
   "outputs": [],
   "source": []
  }
 ],
 "metadata": {
  "kernelspec": {
   "display_name": "Python 2",
   "language": "python",
   "name": "python2"
  },
  "language_info": {
   "codemirror_mode": {
    "name": "ipython",
    "version": 2
   },
   "file_extension": ".py",
   "mimetype": "text/x-python",
   "name": "python",
   "nbconvert_exporter": "python",
   "pygments_lexer": "ipython2",
   "version": "2.7.15"
  }
 },
 "nbformat": 4,
 "nbformat_minor": 2
}
