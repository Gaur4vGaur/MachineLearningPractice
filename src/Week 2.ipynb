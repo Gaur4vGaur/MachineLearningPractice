{
 "cells": [
  {
   "cell_type": "markdown",
   "metadata": {},
   "source": [
    "# Week 2"
   ]
  },
  {
   "cell_type": "markdown",
   "metadata": {},
   "source": [
    "### Level 1"
   ]
  },
  {
   "cell_type": "markdown",
   "metadata": {},
   "source": [
    "Train the model on logistic regression using 5 fold cross validation error"
   ]
  },
  {
   "cell_type": "code",
   "execution_count": 1,
   "metadata": {},
   "outputs": [],
   "source": [
    "from sklearn.datasets import load_iris\n",
    "from sklearn.linear_model import LogisticRegression\n",
    "from sklearn.model_selection import KFold, cross_val_score\n",
    "\n",
    "X, y = load_iris(return_X_y=True)\n",
    "\n",
    "clf = LogisticRegression(random_state=0, solver='lbfgs', multi_class='multinomial')"
   ]
  },
  {
   "cell_type": "code",
   "execution_count": 2,
   "metadata": {},
   "outputs": [
    {
     "data": {
      "text/plain": [
       "[1.0, 1.0, 0.8666666666666667, 0.9333333333333333, 0.8333333333333334]"
      ]
     },
     "execution_count": 2,
     "metadata": {},
     "output_type": "execute_result"
    }
   ],
   "source": [
    "# use kfold to split the data\n",
    "k_fold = KFold(n_splits=5)\n",
    "\n",
    "[clf.fit(X[train], y[train]).score(X[test], y[test])\n",
    " for train, test in k_fold.split(X)]"
   ]
  },
  {
   "cell_type": "code",
   "execution_count": 3,
   "metadata": {},
   "outputs": [
    {
     "name": "stdout",
     "output_type": "stream",
     "text": [
      "[1.0, 1.0, 0.8666666666666667, 0.9333333333333333, 0.8333333333333334]\n"
     ]
    }
   ],
   "source": [
    "# manually splitting the data\n",
    "import numpy as np\n",
    "\n",
    "def myDef(X, y):\n",
    "    X_folds = np.array_split(X, 5)\n",
    "    y_folds = np.array_split(y, 5)\n",
    "    scores = list()\n",
    "\n",
    "    for k in range(5):\n",
    "        X_train = list(X_folds)\n",
    "        X_test  = X_train.pop(k)\n",
    "        X_train = np.concatenate(X_train)\n",
    "        y_train = list(y_folds)\n",
    "        y_test  = y_train.pop(k)\n",
    "        y_train = np.concatenate(y_train)\n",
    "        scores.append(clf.fit(X_train, y_train).score(X_test, y_test))\n",
    "\n",
    "    print(scores) \n",
    "    \n",
    "myDef(X,y)"
   ]
  },
  {
   "cell_type": "code",
   "execution_count": 4,
   "metadata": {},
   "outputs": [
    {
     "name": "stdout",
     "output_type": "stream",
     "text": [
      "[1.0, 0.8333333333333334, 1.0, 1.0, 0.9333333333333333]\n",
      "[0.9333333333333333, 1.0, 0.9666666666666667, 1.0, 0.9333333333333333]\n",
      "[0.8666666666666667, 1.0, 1.0, 0.9666666666666667, 0.9666666666666667]\n",
      "[0.9666666666666667, 0.9666666666666667, 0.9666666666666667, 0.9666666666666667, 0.9]\n",
      "[1.0, 0.9, 1.0, 0.9666666666666667, 0.9333333333333333]\n",
      "[0.9666666666666667, 0.9666666666666667, 0.9, 0.9666666666666667, 1.0]\n",
      "[0.9333333333333333, 0.9666666666666667, 0.9666666666666667, 0.9333333333333333, 1.0]\n",
      "[1.0, 0.9666666666666667, 0.9666666666666667, 0.9666666666666667, 0.9]\n",
      "[0.9666666666666667, 0.9333333333333333, 1.0, 0.9333333333333333, 0.9666666666666667]\n",
      "[0.9666666666666667, 0.9666666666666667, 0.9, 1.0, 1.0]\n"
     ]
    }
   ],
   "source": [
    "#shuffle the data and calculate the scores for 3 times\n",
    "\n",
    "from sklearn.utils import shuffle\n",
    "\n",
    "for k in range(10):\n",
    "    X, y = shuffle(X, y, random_state=k)\n",
    "    myDef(X,y)"
   ]
  },
  {
   "cell_type": "markdown",
   "metadata": {},
   "source": [
    " [Use error bar function to plot the results]"
   ]
  },
  {
   "cell_type": "markdown",
   "metadata": {},
   "source": [
    "#### Calculate leave-one-out cross validation error for logistic regression (may be I need to find a better sample)"
   ]
  },
  {
   "cell_type": "code",
   "execution_count": 5,
   "metadata": {},
   "outputs": [
    {
     "name": "stdout",
     "output_type": "stream",
     "text": [
      "150--->[1.0, 1.0, 1.0, 1.0, 1.0, 1.0, 1.0, 1.0, 1.0, 1.0, 1.0, 1.0, 1.0, 1.0, 1.0, 1.0, 1.0, 1.0, 1.0, 1.0, 1.0, 1.0, 1.0, 1.0, 1.0, 1.0, 1.0, 1.0, 1.0, 1.0, 1.0, 1.0, 1.0, 1.0, 1.0, 1.0, 1.0, 1.0, 1.0, 1.0, 1.0, 1.0, 1.0, 1.0, 1.0, 1.0, 1.0, 1.0, 1.0, 1.0, 1.0, 1.0, 1.0, 1.0, 1.0, 1.0, 1.0, 1.0, 1.0, 1.0, 1.0, 1.0, 1.0, 1.0, 1.0, 1.0, 1.0, 1.0, 1.0, 1.0, 0.0, 1.0, 1.0, 1.0, 1.0, 1.0, 1.0, 0.0, 1.0, 1.0, 1.0, 1.0, 1.0, 0.0, 1.0, 1.0, 1.0, 1.0, 1.0, 1.0, 1.0, 1.0, 1.0, 1.0, 1.0, 1.0, 1.0, 1.0, 1.0, 1.0, 1.0, 1.0, 1.0, 1.0, 1.0, 1.0, 0.0, 1.0, 1.0, 1.0, 1.0, 1.0, 1.0, 1.0, 1.0, 1.0, 1.0, 1.0, 1.0, 0.0, 1.0, 1.0, 1.0, 1.0, 1.0, 1.0, 1.0, 1.0, 1.0, 1.0, 1.0, 1.0, 1.0, 1.0, 1.0, 1.0, 1.0, 1.0, 1.0, 1.0, 1.0, 1.0, 1.0, 1.0, 1.0, 1.0, 1.0, 1.0, 1.0, 1.0]\n"
     ]
    }
   ],
   "source": [
    "from sklearn.model_selection import LeaveOneOut\n",
    "\n",
    "loo = LeaveOneOut()\n",
    "loo.get_n_splits(X)\n",
    "scores = list()\n",
    "X, y = load_iris(return_X_y=True)\n",
    "\n",
    "for train_index, test_index in loo.split(X):\n",
    "    X_train = X[train_index]\n",
    "    X_test = X[test_index]\n",
    "    y_train = y[train_index]\n",
    "    y_test = y[test_index]\n",
    "    scores.append(clf.fit(X_train, y_train).score(X_test, y_test))\n",
    "    \n",
    "print(str(len(scores)) + '--->' + str(scores))"
   ]
  },
  {
   "cell_type": "markdown",
   "metadata": {},
   "source": [
    "#### RBF SVM model and plot for different gamma values"
   ]
  },
  {
   "cell_type": "code",
   "execution_count": 10,
   "metadata": {},
   "outputs": [
    {
     "name": "stdout",
     "output_type": "stream",
     "text": [
      "0.01\n",
      "0.02\n",
      "0.03\n",
      "0.04\n",
      "0.05\n",
      "0.08\n",
      "0.09\n"
     ]
    },
    {
     "data": {
      "image/png": "[encoded data removed]",
      "text/plain": [
       "<Figure size 432x288 with 1 Axes>"
      ]
     },
     "metadata": {},
     "output_type": "display_data"
    }
   ],
   "source": [
    "import numpy as np\n",
    "import matplotlib.pyplot as plt\n",
    "from sklearn import datasets, svm\n",
    "%matplotlib inline\n",
    "\n",
    "iris = datasets.load_digits()\n",
    "X = iris.data\n",
    "y = iris.target\n",
    "\n",
    "n_sample = len(X)\n",
    "\n",
    "np.random.seed(0)\n",
    "order = np.random.permutation(n_sample)\n",
    "X = X[order]\n",
    "y = y[order]\n",
    "\n",
    "X_train = X[:int(.9 * n_sample)]\n",
    "y_train = y[:int(.9 * n_sample)]\n",
    "X_test = X[int(.9 * n_sample):]\n",
    "y_test = y[int(.9 * n_sample):]\n",
    "    \n",
    "score = list()\n",
    "gamma = list()\n",
    "    \n",
    "def scoreWithGamma(g):\n",
    "    clf = svm.SVC(kernel = 'rbf', gamma=g)\n",
    "    s = clf.fit(X_train, y_train).score(X_test, y_test)\n",
    "    score.append(s)\n",
    "    gamma.append(g)\n",
    "    if((((g*1000)%10) == 0)):\n",
    "        print(g)\n",
    "    \n",
    "for i in np.arange(0.01, 0.1, 0.002):\n",
    "    scoreWithGamma(i)\n",
    "    \n",
    "import matplotlib.pyplot as plt\n",
    "plt.plot(score,gamma)\n",
    "plt.ylabel('gamma')\n",
    "plt.xlabel('score')\n",
    "plt.show()"
   ]
  },
  {
   "cell_type": "markdown",
   "metadata": {},
   "source": [
    "### Level 2"
   ]
  },
  {
   "cell_type": "code",
   "execution_count": 7,
   "metadata": {},
   "outputs": [
    {
     "name": "stdout",
     "output_type": "stream",
     "text": [
      "0.01\n",
      "0.03\n",
      "0.15\n",
      "0.29\n",
      "0.35\n",
      "0.57\n",
      "0.59\n",
      "0.69\n",
      "1.13\n",
      "1.15\n",
      "1.17\n"
     ]
    }
   ],
   "source": [
    "score = list()\n",
    "gamma = list()\n",
    "    \n",
    "# with default gamma\n",
    "def scoreWithGamma(g):\n",
    "    clf = svm.SVC(kernel = 'rbf', C=g)\n",
    "    s = clf.fit(X_train, y_train).score(X_test, y_test)\n",
    "    score.append(s)\n",
    "    gamma.append(g)\n",
    "    if((((g*1000)%10) == 0)):\n",
    "        print(g)\n",
    "        \n",
    "\n",
    "# plot with variable gamma but constant C\n",
    "for i in np.arange(0.01, 1.2, 0.02):\n",
    "    scoreWithGamma(i)\n",
    "    \n",
    "    \n"
   ]
  },
  {
   "cell_type": "code",
   "execution_count": 8,
   "metadata": {},
   "outputs": [
    {
     "data": {
      "image/png": "[encoded data removed]",
      "text/plain": [
       "<Figure size 432x288 with 1 Axes>"
      ]
     },
     "metadata": {},
     "output_type": "display_data"
    }
   ],
   "source": [
    "score = list()\n",
    "gamma = list()\n",
    "    \n",
    "def scoreWithGamma(g,c):\n",
    "    clf = svm.SVC(kernel = 'rbf', gamma=g, C=c)\n",
    "    s = clf.fit(X_train, y_train).score(X_test, y_test)\n",
    "    score.append(s)\n",
    "    gamma.append(g)\n",
    "    if((((g*1000)%10) == 0)):\n",
    "        print(str(g), str(c), s)\n",
    "        \n",
    "g = 0.101\n",
    "# plot with increasing C and decreasing gamma\n",
    "for i in np.arange(0.01, 1.0, 0.02):\n",
    "    g = g-0.002\n",
    "    scoreWithGamma(g, i)\n",
    "    \n",
    "import matplotlib.pyplot as plt\n",
    "plt.plot(score,gamma)\n",
    "plt.ylabel('gamma')\n",
    "plt.xlabel('score')\n",
    "plt.show()\n"
   ]
  },
  {
   "cell_type": "code",
   "execution_count": null,
   "metadata": {},
   "outputs": [],
   "source": []
  },
  {
   "cell_type": "code",
   "execution_count": null,
   "metadata": {},
   "outputs": [],
   "source": []
  }
 ],
 "metadata": {
  "kernelspec": {
   "display_name": "Python 2",
   "language": "python",
   "name": "python2"
  },
  "language_info": {
   "codemirror_mode": {
    "name": "ipython",
    "version": 2
   },
   "file_extension": ".py",
   "mimetype": "text/x-python",
   "name": "python",
   "nbconvert_exporter": "python",
   "pygments_lexer": "ipython2",
   "version": "2.7.15"
  }
 },
 "nbformat": 4,
 "nbformat_minor": 2
}
